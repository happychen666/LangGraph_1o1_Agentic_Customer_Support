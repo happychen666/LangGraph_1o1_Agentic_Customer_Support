{
 "cells": [
  {
   "cell_type": "markdown",
   "metadata": {},
   "source": [
    "**Reference: https://python.langchain.com/v0.1/docs/use_cases/sql/large_db/**"
   ]
  },
  {
   "cell_type": "markdown",
   "metadata": {},
   "source": [
    "What happens in this notebook:\n",
    "\n",
    "### **Table Model Definition**\n",
    "   - **`Table` Class**: This is a simple Pydantic model representing a SQL table. It has one attribute, `name`, which is a string and is described as \"Name of table in SQL database.\"\n",
    "     - This model is used in the extraction process to match relevant SQL tables based on the user's query.\n",
    "\n",
    "### **Helper Function - `get_tables`**\n",
    "   - **`get_tables`**: This function takes a list of `Table` objects (i.e., categories such as \"Music\" or \"Business\") and returns a list of corresponding SQL table names based on the category.\n",
    "     - For example, if the category is `\"Music\"`, the tables `\"Album\"`, `\"Artist\"`, `\"Genre\"`, etc., are added to the result.\n",
    "     - Similarly, for `\"Business\"`, the corresponding tables like `\"Customer\"`, `\"Employee\"`, etc., are included.\n",
    "\n",
    "### **Designing the agent for the large DB**\n",
    "\n",
    "- **Step 1: Initialize LLM (`sql_agent_llm`)**: The LLM is instantiated with a given model (e.g., `\"gpt-3.5-turbo\"`) and temperature. The temperature controls how creative/random the model's responses are.\n",
    "- **Step 2: Connect to the SQL Database (`db`)**: The connection to the Chinook SQLite database is established. The database URI is constructed using the `sqldb_directory` provided.\n",
    "- **Step 3: Define Category Chain (`category_chain`)**: The `category_chain_system` is defined, which is a string explaining the categories available (like \"Music\" and \"Business\"). This chain determines which SQL tables are relevant to the user query based on the category.\n",
    "- **Step 4: Chain Creation**:\n",
    "- **`category_chain`**: This uses the `create_extraction_chain_pydantic` function, which creates an extraction chain that identifies relevant SQL tables from the user's question using the `Table` Pydantic model and the LLM.\n",
    "- **`table_chain`**: A chain is formed by combining the output from `category_chain` with the `get_tables` function, so it maps categories to the actual SQL tables.\n",
    "- **Step 5: Query Chain (`query_chain`)**: This creates a SQL query chain using the LLM and the database (`self.db`). It takes the SQL tables and constructs a query.\n",
    "- **Step 6: Table Chain Input Handling**: The `\"question\"` key from the user input is mapped to the `\"input\"` key expected by the `table_chain`. This enables the chain to process user queries correctly.\n",
    "- **Step 7: Full Chain Construction**: Finally, the full chain (`full_chain`) is created by combining:\n",
    "1. **`RunnablePassthrough.assign`**: This sets up a step that assigns the `table_names_to_use` using the result of the `table_chain`.\n",
    "2. **`query_chain`**: Executes the SQL query once the relevant tables are identified."
   ]
  },
  {
   "cell_type": "code",
   "execution_count": 3,
   "metadata": {},
   "outputs": [
    {
     "data": {
      "text/plain": [
       "True"
      ]
     },
     "execution_count": 3,
     "metadata": {},
     "output_type": "execute_result"
    }
   ],
   "source": [
    "import os\n",
    "import getpass\n",
    "from dotenv import load_dotenv\n",
    "from pyprojroot import here\n",
    "from typing import List\n",
    "from pprint import pprint\n",
    "\n",
    "from langchain.chat_models import init_chat_model\n",
    "from langchain_core.prompts import PromptTemplate\n",
    "from langchain_community.utilities import SQLDatabase\n",
    "from langchain.chains import create_sql_query_chain\n",
    "from langchain_community.agent_toolkits import create_sql_agent\n",
    "from langchain_community.tools.sql_database.tool import QuerySQLDataBaseTool\n",
    "from langchain_community.agent_toolkits.sql.toolkit import SQLDatabaseToolkit\n",
    "\n",
    "# 强制覆盖已存在的环境变量\n",
    "load_dotenv(override=True)\n"
   ]
  },
  {
   "cell_type": "markdown",
   "metadata": {},
   "source": [
    "**Set the environment variables and load the LLM**"
   ]
  },
  {
   "cell_type": "code",
   "execution_count": 6,
   "metadata": {},
   "outputs": [],
   "source": [
    "# 如果没有设置 GROQ_API_KEY，则提示用户输入\n",
    "if not os.environ.get(\"GROQ_API_KEY\"):\n",
    "    os.environ[\"GROQ_API_KEY\"] = getpass.getpass(\"Enter API key for Groq: \")\n",
    "#  初始化 Llama 模型，使用 Groq 后端\n",
    "table_extractor_llm = init_chat_model(\"llama-3.3-70b-specdec\", model_provider=\"groq\", temperature=0)"
   ]
  },
  {
   "cell_type": "code",
   "execution_count": 39,
   "metadata": {},
   "outputs": [
    {
     "name": "stdout",
     "output_type": "stream",
     "text": [
      "sqlite\n",
      "['aircrafts_data', 'airports_data', 'boarding_passes', 'bookings', 'car_rentals', 'flights', 'hotels', 'seats', 'ticket_flights', 'tickets', 'trip_recommendations']\n"
     ]
    }
   ],
   "source": [
    "sqldb_directory = here(\"data/travel2.sqlite\")\n",
    "db = SQLDatabase.from_uri(f\"sqlite:///{sqldb_directory}\")\n",
    "print(db.dialect)\n",
    "print(db.get_usable_table_names())\n",
    "\n",
    "# \"SELECT * FROM tickets LIMIT 10;\"\n",
    "# sql_txt = \"SELECT * FROM flights WHERE destination = 'Beijing' AND departure_date > '2025-05-02';\"\n",
    "# db.run(sql_txt)"
   ]
  },
  {
   "cell_type": "code",
   "execution_count": 41,
   "metadata": {},
   "outputs": [
    {
     "name": "stdout",
     "output_type": "stream",
     "text": [
      "数据库模式信息：\n",
      "表 aircrafts_data 的字段: ['aircraft_code', 'model', 'range']\n",
      "表 airports_data 的字段: ['airport_code', 'airport_name', 'city', 'coordinates', 'timezone']\n",
      "表 boarding_passes 的字段: ['ticket_no', 'flight_id', 'boarding_no', 'seat_no']\n",
      "表 bookings 的字段: ['book_ref', 'book_date', 'total_amount']\n",
      "表 car_rentals 的字段: ['id', 'name', 'location', 'price_tier', 'start_date', 'end_date', 'booked']\n",
      "表 flights 的字段: ['flight_id', 'flight_no', 'scheduled_departure', 'scheduled_arrival', 'departure_airport', 'arrival_airport', 'status', 'aircraft_code', 'actual_departure', 'actual_arrival']\n",
      "表 hotels 的字段: ['id', 'name', 'location', 'price_tier', 'checkin_date', 'checkout_date', 'booked']\n",
      "表 seats 的字段: ['aircraft_code', 'seat_no', 'fare_conditions']\n",
      "表 ticket_flights 的字段: ['ticket_no', 'flight_id', 'fare_conditions', 'amount']\n",
      "表 tickets 的字段: ['ticket_no', 'book_ref', 'passenger_id']\n",
      "表 trip_recommendations 的字段: ['id', 'name', 'location', 'keywords', 'details', 'booked']\n",
      "\n",
      "上下文信息：\n",
      "Table aircrafts_data: aircraft_code, model, range\n",
      "Table airports_data: airport_code, airport_name, city, coordinates, timezone\n",
      "Table boarding_passes: ticket_no, flight_id, boarding_no, seat_no\n",
      "Table bookings: book_ref, book_date, total_amount\n",
      "Table car_rentals: id, name, location, price_tier, start_date, end_date, booked\n",
      "Table flights: flight_id, flight_no, scheduled_departure, scheduled_arrival, departure_airport, arrival_airport, status, aircraft_code, actual_departure, actual_arrival\n",
      "Table hotels: id, name, location, price_tier, checkin_date, checkout_date, booked\n",
      "Table seats: aircraft_code, seat_no, fare_conditions\n",
      "Table ticket_flights: ticket_no, flight_id, fare_conditions, amount\n",
      "Table tickets: ticket_no, book_ref, passenger_id\n",
      "Table trip_recommendations: id, name, location, keywords, details, booked\n",
      "\n",
      "\n",
      "生成的 SQL 语句：\n",
      "生成的 SQL 语句错误：缺少 destination 字段\n"
     ]
    },
    {
     "name": "stderr",
     "output_type": "stream",
     "text": [
      "C:\\Users\\陈群\\AppData\\Local\\Temp\\ipykernel_496\\1541312577.py:21: LangChainDeprecationWarning: The method `SQLDatabase.get_table_names` was deprecated in langchain-community 0.0.1 and will be removed in 1.0. Use :meth:`~get_usable_table_names` instead.\n",
      "  table_names = db.get_table_names()\n"
     ]
    }
   ],
   "source": [
    "# 导入 LangChain 中的 SQLDatabase 类，用于连接数据库\n",
    "from langchain.sql_database import SQLDatabase\n",
    "# 导入 SQLAlchemy 的 inspect 函数，方便获取数据库的元数据（表、字段等信息）\n",
    "from sqlalchemy import inspect\n",
    "\n",
    "# 1. 获取数据库文件路径\n",
    "#    使用 here() 函数获取 travel2.sqlite 文件的绝对路径，这里假设函数 here 已经定义好\n",
    "sqldb_directory = here(\"data/travel2.sqlite\")\n",
    "\n",
    "# 2. 通过 SQLDatabase.from_uri 创建数据库连接对象\n",
    "#    f\"sqlite:///{sqldb_directory}\" 构造了 SQLite 数据库的 URI\n",
    "db = SQLDatabase.from_uri(f\"sqlite:///{sqldb_directory}\")\n",
    "#    例如，如果 sqldb_directory 是 \"/home/user/project/data/travel2.sqlite\"，则 URI 为 \"sqlite:////home/user/project/data/travel2.sqlite\"\n",
    "\n",
    "# 3. 使用 SQLAlchemy 的 inspect 创建一个检查器对象，通过它可以获取数据库的元数据信息\n",
    "#    db 内部保存了 SQLAlchemy 的 engine 对象，这里使用 db._engine 来创建 Inspector\n",
    "inspector = inspect(db._engine)\n",
    "\n",
    "# 4. 获取数据库中所有表的名称\n",
    "#    db.get_table_names() 返回一个列表，包含数据库中所有表名，例如 ['flights', 'users', 'bookings']\n",
    "table_names = db.get_table_names()\n",
    "\n",
    "# 5. 初始化一个字典，用于存储每个表及其字段信息\n",
    "db_schema = {}\n",
    "\n",
    "# 6. 遍历每个表，利用 inspector.get_columns 获取该表的所有列信息\n",
    "for table in table_names:\n",
    "    # inspector.get_columns(table) 返回一个列表，每个元素是一个字典，描述一个字段的信息\n",
    "    # 例如，对于 flights 表，可能返回：\n",
    "    # [{'name': 'id', 'type': 'INTEGER', ...}, {'name': 'departure_date', 'type': 'TEXT', ...}, ...]\n",
    "    columns_info = inspector.get_columns(table)\n",
    "    \n",
    "    # 7. 从每个字典中提取字段名称，形成一个字段名称列表\n",
    "    columns = [col[\"name\"] for col in columns_info]\n",
    "    \n",
    "    # 8. 将当前表的字段列表存入 db_schema 字典，键为表名，值为字段名称列表\n",
    "    db_schema[table] = columns\n",
    "\n",
    "# 9. 打印出整个数据库的模式信息，帮助检查所有表和字段\n",
    "print(\"数据库模式信息：\")\n",
    "for table, columns in db_schema.items():\n",
    "    print(f\"表 {table} 的字段: {columns}\")\n",
    "#    举例输出：\n",
    "#      表 flights 的字段: ['id', 'departure_date', 'arrival_time']\n",
    "#      表 users 的字段: ['id', 'username', 'email']\n",
    "\n",
    "# 10. 将数据库模式信息转换为一个上下文字符串，供 SQL 生成模型使用\n",
    "schema_context = \"\"\n",
    "for table, columns in db_schema.items():\n",
    "    # 每个表的信息格式为 \"Table 表名: 字段1, 字段2, ...\"，并以换行符分隔不同表的信息\n",
    "    schema_context += f\"Table {table}: \" + \", \".join(columns) + \"\\n\"\n",
    "\n",
    "# 打印生成的上下文信息，便于检查和调试\n",
    "print(\"\\n上下文信息：\")\n",
    "print(schema_context)\n",
    "#    举例输出：\n",
    "#      Table flights: id, departure_date, arrival_time\n",
    "#      Table users: id, username, email\n",
    "\n",
    "# 11. 模拟 SQL 生成函数\n",
    "def create_sql_query_chain(query, context):\n",
    "    \"\"\"\n",
    "    模拟生成 SQL 语句的函数：\n",
    "    - query 参数表示用户的查询条件，比如 \"Beijing\" 表示查询目的地为北京。\n",
    "    - context 参数为数据库模式上下文字符串，包含所有表和字段的信息。\n",
    "    \n",
    "    函数根据上下文信息判断是否存在 'destination' 字段，\n",
    "    如果存在则生成 SQL 语句，否则返回错误提示。\n",
    "    \"\"\"\n",
    "    if \"destination\" in context:\n",
    "        # 如果上下文中包含 destination 字段，生成一条查询 flights 表的 SQL 语句\n",
    "        return f\"SELECT * FROM flights WHERE destination = '{query}' AND departure_date > '2025-05-02';\"\n",
    "    else:\n",
    "        # 如果上下文中没有 destination 字段，说明生成 SQL 可能会出错，因此返回提示信息\n",
    "        return \"生成的 SQL 语句错误：缺少 destination 字段\"\n",
    "\n",
    "# 12. 调用 SQL 生成函数，并传入示例查询参数 \"Beijing\" 以及生成的数据库模式上下文信息\n",
    "generated_sql = create_sql_query_chain(\"Beijing\", schema_context)\n",
    "print(\"\\n生成的 SQL 语句：\")\n",
    "print(generated_sql)\n",
    "#    举例说明：\n",
    "#      如果 flights 表中没有 destination 字段，则函数会返回错误提示，\n",
    "#      否则就会生成一条正确的 SQL 查询语句。\n",
    "\n",
    "# 13. 完成所有操作后关闭数据库连接\n",
    "#    SQLDatabase 对象不一定要求手动关闭，如果需要可以调用相关方法，这里假设不再需要额外关闭\n"
   ]
  },
  {
   "cell_type": "markdown",
   "metadata": {},
   "source": [
    "**Prepare the `Table` class**"
   ]
  },
  {
   "cell_type": "code",
   "execution_count": 11,
   "metadata": {},
   "outputs": [],
   "source": [
    "from pydantic import BaseModel, Field\n",
    "\n",
    "class Table(BaseModel):\n",
    "    \"\"\"\n",
    "    Represents a table in the SQL database.\n",
    "\n",
    "    Attributes:\n",
    "        name (str): The name of the table in the SQL database.\n",
    "    \"\"\"\n",
    "    name: str = Field(description=\"Name of table in SQL database.\")"
   ]
  },
  {
   "cell_type": "markdown",
   "metadata": {},
   "source": [
    "### **Strategy A:**"
   ]
  },
  {
   "cell_type": "code",
   "execution_count": 12,
   "metadata": {},
   "outputs": [
    {
     "name": "stdout",
     "output_type": "stream",
     "text": [
      "('aircrafts_data\\n'\n",
      " 'airports_data\\n'\n",
      " 'boarding_passes\\n'\n",
      " 'bookings\\n'\n",
      " 'car_rentals\\n'\n",
      " 'flights\\n'\n",
      " 'hotels\\n'\n",
      " 'seats\\n'\n",
      " 'ticket_flights\\n'\n",
      " 'tickets\\n'\n",
      " 'trip_recommendations')\n"
     ]
    }
   ],
   "source": [
    "table_names = \"\\n\".join(db.get_usable_table_names())\n",
    "pprint(table_names)"
   ]
  },
  {
   "cell_type": "code",
   "execution_count": 18,
   "metadata": {},
   "outputs": [
    {
     "data": {
      "text/plain": [
       "[Table(name='hotels')]"
      ]
     },
     "execution_count": 18,
     "metadata": {},
     "output_type": "execute_result"
    }
   ],
   "source": [
    "from langchain.chains.openai_tools import create_extraction_chain_pydantic\n",
    "\n",
    "system = f\"\"\"Return the names of ALL the SQL tables that MIGHT be relevant to the user question. \\\n",
    "The tables are:\n",
    "\n",
    "{table_names}\n",
    "\n",
    "Remember to include ALL POTENTIALLY RELEVANT tables, even if you're not sure that they're needed.\"\"\"\n",
    "table_chain = create_extraction_chain_pydantic(pydantic_schemas=Table, llm=table_extractor_llm, system_message=system)\n",
    "table_chain.invoke({\"input\": \"Search for all hotels\"})"
   ]
  },
  {
   "cell_type": "markdown",
   "metadata": {},
   "source": [
    "### **Strategy B:**"
   ]
  },
  {
   "cell_type": "markdown",
   "metadata": {},
   "source": [
    "Music:\n",
    "\n",
    "- \"Album\"\n",
    "- \"Artist\"\n",
    "- \"Genre\"\n",
    "- \"MediaType\"\n",
    "- \"Playlist\"\n",
    "- \"PlaylistTrack\"\n",
    "- \"Track\"\n",
    "\n",
    "hotels:\n",
    "\n",
    "- \"hotels\""
   ]
  },
  {
   "cell_type": "code",
   "execution_count": 27,
   "metadata": {},
   "outputs": [
    {
     "data": {
      "text/plain": [
       "[Table(name='aircrafts_data'),\n",
       " Table(name='airports_data'),\n",
       " Table(name='boarding_passes'),\n",
       " Table(name='bookings'),\n",
       " Table(name='flights'),\n",
       " Table(name='seats'),\n",
       " Table(name='ticket_flights'),\n",
       " Table(name='tickets')]"
      ]
     },
     "execution_count": 27,
     "metadata": {},
     "output_type": "execute_result"
    }
   ],
   "source": [
    "from langchain.chains.openai_tools import create_extraction_chain_pydantic\n",
    "\n",
    "system = f\"\"\"You will recieve a question.\n",
    "\n",
    "If the question is about **flights**, return **ALL** these tables:\n",
    "  - \"aircrafts_data\"\n",
    "  - \"airports_data\"\n",
    "  - \"boarding_passes\"\n",
    "  - \"bookings\"\n",
    "  - \"flights\"\n",
    "  - \"seats\"\n",
    "  - \"ticket_flights\"\n",
    "  - \"tickets\"\n",
    "\n",
    "If the question is about **hotels**, return **ALL** these tables:\n",
    "  - \"hotels\"\n",
    "\n",
    "If you are unsure, return the full list of all available tables for both Music and Business categories.\"\"\"\n",
    "category_chain = create_extraction_chain_pydantic(pydantic_schemas=Table, llm=table_extractor_llm, system_message=system)\n",
    "category_chain.invoke({\"input\": \"What are all the flights\"})"
   ]
  },
  {
   "cell_type": "markdown",
   "metadata": {},
   "source": [
    "### **Strategy C:**\n",
    "\n",
    "- **Step 1: Define the category**"
   ]
  },
  {
   "cell_type": "code",
   "execution_count": 29,
   "metadata": {},
   "outputs": [
    {
     "data": {
      "text/plain": [
       "['aircrafts_data',\n",
       " 'airports_data',\n",
       " 'boarding_passes',\n",
       " 'bookings',\n",
       " 'flights',\n",
       " 'seats',\n",
       " 'ticket_flights',\n",
       " 'tickets']"
      ]
     },
     "execution_count": 29,
     "metadata": {},
     "output_type": "execute_result"
    }
   ],
   "source": [
    "from langchain.chains.openai_tools import create_extraction_chain_pydantic\n",
    "\n",
    "system = \"\"\"Return the names of the SQL tables that are relevant to the user question. \\\n",
    "The tables are:\n",
    "\n",
    "flights\n",
    "hotels\"\"\"\n",
    "table_extractor_llm = init_chat_model(\"llama3-70b-8192\", model_provider=\"groq\", temperature=0)\n",
    "\n",
    "category_chain = create_extraction_chain_pydantic(pydantic_schemas=Table, llm=table_extractor_llm, system_message=system)\n",
    "\n",
    "def get_tables(categories: List[Table]) -> List[str]:\n",
    "    \"\"\"Maps category names to corresponding SQL table names.\n",
    "\n",
    "    Args:\n",
    "        categories (List[Table]): A list of `Table` objects representing different categories.\n",
    "\n",
    "    Returns:\n",
    "        List[str]: A list of SQL table names corresponding to the provided categories.\n",
    "    \"\"\"\n",
    "    tables = []\n",
    "    for category in categories:\n",
    "        if category.name == \"flights\":\n",
    "            tables.extend(\n",
    "                [\n",
    "                    \"aircrafts_data\",\n",
    "                    \"airports_data\",\n",
    "                    \"boarding_passes\",\n",
    "                    \"bookings\",\n",
    "                    \"flights\",\n",
    "                    \"seats\",\n",
    "                    \"ticket_flights\",\n",
    "                    \"tickets\"\n",
    "                ]\n",
    "            )\n",
    "        elif category.name == \"hotels\":\n",
    "            tables.extend([\"hotels\"])\n",
    "    return tables\n",
    "\n",
    "\n",
    "table_chain = category_chain | get_tables \n",
    "\n",
    "table_chain.invoke({\"input\": \"Search for all flights to Beijing after 2025-05-02\"})"
   ]
  },
  {
   "cell_type": "markdown",
   "metadata": {},
   "source": [
    "- **Step 2: Execute the python function**"
   ]
  },
  {
   "cell_type": "code",
   "execution_count": 31,
   "metadata": {},
   "outputs": [
    {
     "data": {
      "text/plain": [
       "['aircrafts_data',\n",
       " 'airports_data',\n",
       " 'boarding_passes',\n",
       " 'bookings',\n",
       " 'flights',\n",
       " 'seats',\n",
       " 'ticket_flights',\n",
       " 'tickets']"
      ]
     },
     "execution_count": 31,
     "metadata": {},
     "output_type": "execute_result"
    }
   ],
   "source": [
    "def get_tables(categories: List[Table]) -> List[str]:\n",
    "    \"\"\"Maps category names to corresponding SQL table names.\n",
    "\n",
    "    Args:\n",
    "        categories (List[Table]): A list of `Table` objects representing different categories.\n",
    "\n",
    "    Returns:\n",
    "        List[str]: A list of SQL table names corresponding to the provided categories.\n",
    "    \"\"\"\n",
    "    tables = []\n",
    "    for category in categories:\n",
    "        if category.name == \"flights\":\n",
    "            tables.extend(\n",
    "                [\n",
    "                    \"aircrafts_data\",\n",
    "                    \"airports_data\",\n",
    "                    \"boarding_passes\",\n",
    "                    \"bookings\",\n",
    "                    \"flights\",\n",
    "                    \"seats\",\n",
    "                    \"ticket_flights\",\n",
    "                    \"tickets\"\n",
    "                ]\n",
    "            )\n",
    "        elif category.name == \"hotels\":\n",
    "            tables.extend([\"hotels\"])\n",
    "    return tables\n",
    "\n",
    "\n",
    "table_chain = category_chain | get_tables \n",
    "table_chain.invoke({\"input\": \"Search for all flights to Beijing after 2025-05-02\"})"
   ]
  },
  {
   "cell_type": "markdown",
   "metadata": {},
   "source": [
    "### **Final step:**\n",
    "\n",
    "**Attach the desired strategy to your SQL agent**"
   ]
  },
  {
   "cell_type": "code",
   "execution_count": 32,
   "metadata": {},
   "outputs": [],
   "source": [
    "# 定义自定义提示模板，用于生成 SQL 查询\n",
    "custom_prompt = PromptTemplate(\n",
    "    input_variables=[\"dialect\", \"input\", \"table_info\", \"top_k\"],\n",
    "    template=\"\"\"You are a SQL expert using {dialect}.\n",
    "Given the following table schema:\n",
    "{table_info}\n",
    "Generate a syntactically correct SQL query to answer the question: \"{input}\".\n",
    "Limit the results to at most {top_k} rows.\n",
    "Return only the SQL query without any additional commentary or Markdown formatting.\n",
    "\"\"\"\n",
    ")\n",
    "\n",
    "\n",
    "# 构造输入数据字典，其中包含方言、表结构、问题和行数限制\n",
    "# input_data = {\n",
    "#     \"dialect\": db.dialect,                    # 数据库方言，如 \"sqlite\"\n",
    "#     \"table_info\": db.get_table_info(),          # 表结构信息\n",
    "#     \"question\": \"What name of MediaType is?\",\n",
    "#     \"top_k\": 5\n",
    "# }"
   ]
  },
  {
   "cell_type": "code",
   "execution_count": 33,
   "metadata": {},
   "outputs": [
    {
     "data": {
      "text/plain": [
       "[Table(name='flights')]"
      ]
     },
     "execution_count": 33,
     "metadata": {},
     "output_type": "execute_result"
    }
   ],
   "source": [
    "from langchain_core.runnables import RunnablePassthrough\n",
    "from langchain.chains import create_sql_query_chain\n",
    "from operator import itemgetter\n",
    "\n",
    "from langchain.chains.openai_tools import create_extraction_chain_pydantic\n",
    "\n",
    "system = \"\"\"Return the names of the SQL tables that are relevant to the user question. \\\n",
    "The tables are:\n",
    "\n",
    "flights\n",
    "hotels\"\"\"\n",
    "table_extractor_llm = init_chat_model(\"llama3-70b-8192\", model_provider=\"groq\", temperature=0)\n",
    "\n",
    "category_chain = create_extraction_chain_pydantic(pydantic_schemas=Table, llm=table_extractor_llm, system_message=system)\n",
    "category_chain.invoke({\"input\": \"Search for all flights to Beijing after 2025-05-02\"})"
   ]
  },
  {
   "cell_type": "code",
   "execution_count": 48,
   "metadata": {},
   "outputs": [
    {
     "name": "stdout",
     "output_type": "stream",
     "text": [
      "SELECT * FROM flights WHERE destination = 'Beijing' AND departure_date > '2025-05-02';\n"
     ]
    }
   ],
   "source": [
    "from langchain_core.runnables import RunnablePassthrough\n",
    "from langchain.chains import create_sql_query_chain\n",
    "from operator import itemgetter\n",
    "from langchain.chains.openai_tools import create_extraction_chain_pydantic\n",
    "from langchain import PromptTemplate\n",
    "from typing import List\n",
    "\n",
    "# 1. 定义系统提示和初始化用于提取表名的模型\n",
    "system = \"\"\"Return the names of the SQL tables that are relevant to the user question. \\\n",
    "The tables are:\n",
    "\n",
    "Music\n",
    "Business\"\"\"\n",
    "table_extractor_llm = init_chat_model(\"llama3-70b-8192\", model_provider=\"groq\", temperature=0)\n",
    "\n",
    "# 2. 构建用于提取表名的链（使用 Pydantic Schema Table，此处假设 Table 已经定义）\n",
    "category_chain = create_extraction_chain_pydantic(pydantic_schemas=Table, llm=table_extractor_llm, system_message=system)\n",
    "\n",
    "# 3. 定义将提取的类别映射到具体 SQL 表名的函数\n",
    "def get_tables(categories: List[Table]) -> List[str]:\n",
    "    \"\"\"Maps category names to corresponding SQL table names.\n",
    "    \n",
    "    Args:\n",
    "        categories (List[Table]): A list of `Table` objects representing different categories.\n",
    "    \n",
    "    Returns:\n",
    "        List[str]: A list of SQL table names corresponding to the provided categories.\n",
    "    \"\"\"\n",
    "    tables = []\n",
    "    for category in categories:\n",
    "        if category.name == \"flights\":\n",
    "            tables.extend(\n",
    "                [\n",
    "                    \"aircrafts_data\",\n",
    "                    \"airports_data\",\n",
    "                    \"boarding_passes\",\n",
    "                    \"bookings\",\n",
    "                    \"flights\",\n",
    "                    \"seats\",\n",
    "                    \"ticket_flights\",\n",
    "                    \"tickets\"\n",
    "                ]\n",
    "            )\n",
    "        elif category.name == \"hotels\":\n",
    "            tables.extend([\"hotels\"])\n",
    "    return tables\n",
    "\n",
    "# 4. 将表名提取链和映射函数通过管道组合\n",
    "table_chain = category_chain | get_tables \n",
    "\n",
    "# 5. 定义自定义提示模板，用于生成 SQL 查询\n",
    "custom_prompt = PromptTemplate(\n",
    "    input_variables=[\"dialect\", \"input\", \"table_info\", \"top_k\", \"schema_context\"],\n",
    "    template=\"\"\"You are a SQL expert using {dialect}.\n",
    "Given the following table schema:\n",
    "{table_info}\n",
    "Generate a syntactically correct SQL query to answer the question: \"{input}\".\n",
    "Don't Limit the results to at most {top_k} rows.\n",
    "Return only the SQL query without any additional commentary or Markdown formatting.\n",
    "\"\"\"\n",
    ")\n",
    "\n",
    "# 6. 使用 create_sql_query_chain 构建 SQL 生成链\n",
    "query_chain = create_sql_query_chain(table_extractor_llm, db, prompt=custom_prompt)\n",
    "\n",
    "# 7. 利用 bind 固定部分参数，这里传入 dialect、table_info、top_k、以及 schema_context（这里 schema_context 是你提前构造的数据库模式上下文）\n",
    "bound_chain = query_chain.bind(\n",
    "    dialect=db.dialect,\n",
    "    table_info=db.get_table_info(),\n",
    "    top_k=55,\n",
    "    schema_context=schema_context\n",
    ")\n",
    "\n",
    "# 8. 将输入键 \"question\" 映射为 \"input\"（因为自定义提示模板需要 \"input\" 变量）\n",
    "table_chain = {\"input\": itemgetter(\"question\")} | table_chain\n",
    "\n",
    "# 9. 组合链：使用 RunnablePassthrough.assign 将 table_names_to_use 参数赋值给 SQL 生成链\n",
    "# 这里有两种解决方案：\n",
    "# 【方案一】如果你希望在 invoke 时手动传入 schema_context，则直接组合：\n",
    "full_chain = RunnablePassthrough.assign(table_names_to_use=table_chain) | bound_chain\n",
    "\n",
    "# 【方案二】如果希望后续调用时不必传入 schema_context，则可以在组合后再次绑定：\n",
    "# full_chain = RunnablePassthrough.assign(table_names_to_use=table_chain) | bound_chain.bind(schema_context=schema_context)\n",
    "\n",
    "# 10. 调用 full_chain 时确保输入包含所有 PromptTemplate 所需的变量\n",
    "# 如果使用【方案一】，则 invoke 时需要传入 \"schema_context\"：\n",
    "query = full_chain.invoke({\n",
    "    \"question\": \"Search for all flights to Beijing after 2025-05-02\",\n",
    "#     \"schema_context\": schema_context   # 手动传入 schema_context\n",
    "})\n",
    "# 如果使用【方案二】，则只需要传入 {\"question\": ...}\n",
    "\n",
    "print(query)\n",
    "# db.run(query)\n"
   ]
  },
  {
   "cell_type": "markdown",
   "metadata": {},
   "source": [
    "**Test the agent**"
   ]
  },
  {
   "cell_type": "code",
   "execution_count": 42,
   "metadata": {},
   "outputs": [
    {
     "name": "stdout",
     "output_type": "stream",
     "text": [
      "SELECT DISTINCT g.Name \n",
      "FROM Track t \n",
      "JOIN Genre g ON t.GenreId = g.GenreId \n",
      "JOIN Album a ON t.AlbumId = a.AlbumId \n",
      "JOIN Artist ar ON a.ArtistId = ar.ArtistId \n",
      "WHERE ar.Name = 'Alanis Morissette';\n"
     ]
    }
   ],
   "source": [
    "from langchain_core.runnables import RunnablePassthrough\n",
    "from langchain.chains import create_sql_query_chain\n",
    "from operator import itemgetter\n",
    "from langchain.chains.openai_tools import create_extraction_chain_pydantic\n",
    "\n",
    "# 系统消息，要求 LLM 返回与问题相关的 SQL 表类别\n",
    "system = \"\"\"Return the names of the SQL tables that are relevant to the user question. \\\n",
    "The tables are:\n",
    "\n",
    "Music\n",
    "Business\"\"\"\n",
    "\n",
    "# 初始化 LLM 模型\n",
    "table_extractor_llm = init_chat_model(\"llama3-70b-8192\", model_provider=\"groq\", temperature=0)\n",
    "\n",
    "# 创建提取链：将用户问题转换为 Table 模型的实例\n",
    "category_chain = create_extraction_chain_pydantic(pydantic_schemas=Table, llm=table_extractor_llm, system_message=system)\n",
    "\n",
    "# 定义一个函数，根据 Table 对象映射到具体的 SQL 表名\n",
    "def get_tables(categories: List[Table]) -> List[str]:\n",
    "    \"\"\"将类别名称映射到对应的 SQL 表名列表.\"\"\"\n",
    "    tables = []\n",
    "    for category in categories:\n",
    "        if category.name == \"Music\":\n",
    "            tables.extend(\n",
    "                [\n",
    "                    \"Album\",\n",
    "                    \"Artist\",\n",
    "                    \"Genre\",\n",
    "                    \"MediaType\",\n",
    "                    \"Playlist\",\n",
    "                    \"PlaylistTrack\",\n",
    "                    \"Track\",\n",
    "                ]\n",
    "            )\n",
    "        elif category.name == \"Business\":\n",
    "            tables.extend([\"Customer\", \"Employee\", \"Invoice\", \"InvoiceLine\"])\n",
    "    return tables\n",
    "\n",
    "# 将类别提取链与映射函数组合，得到一个返回 SQL 表名列表的链\n",
    "table_chain = category_chain | get_tables \n",
    "\n",
    "# 定义自定义 SQL 提示模板，用于生成 SQL 查询\n",
    "custom_prompt = PromptTemplate(\n",
    "    input_variables=[\"dialect\", \"input\", \"table_info\", \"top_k\"],\n",
    "    template=\"\"\"You are a SQL expert using {dialect}.\n",
    "Given the following table schema:\n",
    "{table_info}\n",
    "Generate a syntactically correct SQL query to answer the question: \"{input}\".\n",
    "Don't limit the results to {top_k} rows.\n",
    "Return only the SQL query without any additional commentary or Markdown formatting.\n",
    "\"\"\"\n",
    ")\n",
    "\n",
    "# 创建 SQL 查询链\n",
    "query_chain = create_sql_query_chain(table_extractor_llm, db, prompt=custom_prompt)\n",
    "\n",
    "# 利用 bind 将固定参数绑定到 SQL 查询链中\n",
    "bound_chain = query_chain.bind(\n",
    "    dialect=db.dialect,\n",
    "    table_info=db.get_table_info(),\n",
    "    top_k=55\n",
    ")\n",
    "\n",
    "# 将输入中的 \"question\" 键复制到 \"input\" 键，同时保留原始数据\n",
    "table_chain = (lambda x: {**x, \"input\": x[\"question\"]}) | table_chain\n",
    "\n",
    "# 使用 RunnablePassthrough.assign 将提取到的表名添加到上下文中，然后与 SQL 查询链组合\n",
    "full_chain = RunnablePassthrough.assign(table_names_to_use=table_chain) | bound_chain\n",
    "\n",
    "# 调用整个链，生成 SQL 查询\n",
    "query = full_chain.invoke(\n",
    "    {\"question\": \"What are all the genres of Alanis Morisette songs?non rep!\"}\n",
    ")\n",
    "print(query)\n"
   ]
  },
  {
   "cell_type": "code",
   "execution_count": 43,
   "metadata": {},
   "outputs": [
    {
     "data": {
      "text/plain": [
       "\"[('Rock',)]\""
      ]
     },
     "execution_count": 43,
     "metadata": {},
     "output_type": "execute_result"
    }
   ],
   "source": [
    "db.run(query)"
   ]
  },
  {
   "cell_type": "markdown",
   "metadata": {},
   "source": [
    "**Prepare the tool (Don't run the following cell)**"
   ]
  },
  {
   "cell_type": "code",
   "execution_count": 6,
   "metadata": {},
   "outputs": [
    {
     "name": "stdout",
     "output_type": "stream",
     "text": [
      "可用表: ['Album', 'Artist', 'Customer', 'Employee', 'Genre', 'Invoice', 'InvoiceLine', 'MediaType', 'Playlist', 'PlaylistTrack', 'Track']\n"
     ]
    },
    {
     "data": {
      "text/plain": [
       "\"[('Rock',)]\""
      ]
     },
     "execution_count": 6,
     "metadata": {},
     "output_type": "execute_result"
    }
   ],
   "source": [
    "import os\n",
    "import getpass\n",
    "from dotenv import load_dotenv\n",
    "from pyprojroot import here\n",
    "from typing import List\n",
    "from pprint import pprint\n",
    "from pydantic import BaseModel\n",
    "from langchain_core.tools import tool\n",
    "from langchain_core.runnables import RunnablePassthrough\n",
    "from langchain.chains import create_sql_query_chain\n",
    "from operator import itemgetter\n",
    "from langchain.chains.openai_tools import create_extraction_chain_pydantic\n",
    "from langchain.chat_models import init_chat_model\n",
    "from langchain_core.prompts import PromptTemplate\n",
    "from langchain_community.utilities import SQLDatabase\n",
    "\n",
    "# 定义用于提取表类别的 Pydantic 模型\n",
    "class Table(BaseModel):\n",
    "    name: str\n",
    "\n",
    "# 定义一个映射函数，将类别名称转换为具体的 SQL 表名列表\n",
    "def get_tables(categories: List[Table]) -> List[str]:\n",
    "    \"\"\"根据类别名称映射到对应的 SQL 表名列表.\"\"\"\n",
    "    tables = []\n",
    "    for category in categories:\n",
    "        if category.name == \"Music\":\n",
    "            tables.extend([\n",
    "                \"Album\",\n",
    "                \"Artist\",\n",
    "                \"Genre\",\n",
    "                \"MediaType\",\n",
    "                \"Playlist\",\n",
    "                \"PlaylistTrack\",\n",
    "                \"Track\",\n",
    "            ])\n",
    "        elif category.name == \"Business\":\n",
    "            tables.extend([\"Customer\", \"Employee\", \"Invoice\", \"InvoiceLine\"])\n",
    "    return tables\n",
    "\n",
    "class ChinookSQLAgent:\n",
    "    \"\"\"\n",
    "    一个专门用于 Chinook SQL 数据库查询的 agent，\n",
    "    利用 LLM 解析用户的问题，自动判断与问题相关的表类别，\n",
    "    并生成相应的 SQL 查询执行。\n",
    "    \n",
    "    属性:\n",
    "        sql_agent_llm: 用于解析问题和生成 SQL 查询的 LLM 模型。\n",
    "        db: Chinook 数据库的连接对象。\n",
    "        full_chain: 一个链条，将用户问题转为 SQL 查询后执行。\n",
    "    \n",
    "    构造方法参数:\n",
    "        sqldb_directory (str): Chinook SQLite 数据库文件所在的目录路径。\n",
    "        llm (str): LLM 模型名称（例如 \"gpt-3.5-turbo\"），但内部使用 \"llama3-70b-8192\"。\n",
    "        llm_temperature (float): LLM 的温度参数，用于控制生成结果的随机性。\n",
    "    \"\"\"\n",
    "    def __init__(self, sqldb_directory: str, llm: str, llm_temperature: float) -> None:\n",
    "        # 初始化 LLM 模型（此处使用 \"llama3-70b-8192\"，由 groq 提供）\n",
    "        self.sql_agent_llm = init_chat_model(llm, model_provider=\"groq\", temperature=llm_temperature)\n",
    "        \n",
    "        # 建立到 Chinook SQLite 数据库的连接\n",
    "        self.db = SQLDatabase.from_uri(f\"sqlite:///{sqldb_directory}\")\n",
    "        print(\"可用表:\", self.db.get_usable_table_names())\n",
    "        \n",
    "        # 定义系统提示，指导 LLM 根据用户问题返回相关的表类别\n",
    "        category_chain_system = (\n",
    "            \"Return the names of the SQL tables that are relevant to the user question. \"\n",
    "            \"The tables are:\\n\\nMusic\\nBusiness\"\n",
    "        )\n",
    "        # 创建提取链，从用户问题中提取表类别（使用 Pydantic 模型 Table）\n",
    "        category_chain = create_extraction_chain_pydantic(Table, self.sql_agent_llm, system_message=category_chain_system)\n",
    "        # 将提取到的类别转换为具体的 SQL 表名\n",
    "        table_chain = category_chain | get_tables\n",
    "        \n",
    "        # 定义自定义 SQL 提示模板\n",
    "        custom_prompt = PromptTemplate(\n",
    "            input_variables=[\"dialect\", \"input\", \"table_info\", \"top_k\"],\n",
    "            template=(\n",
    "                \"You are a SQL expert using {dialect}.\\n\"\n",
    "                \"Given the following table schema:\\n\"\n",
    "                \"{table_info}\\n\"\n",
    "                \"Generate a syntactically correct SQL query to answer the question: \\\"{input}\\\".\\n\"\n",
    "                \"Don't limit the results to {top_k} rows.\\n\"\n",
    "                \"Ensure the query uses DISTINCT to avoid duplicate rows.\\n\"\n",
    "                \"Return only the SQL query without any additional commentary or Markdown formatting.\"\n",
    "            )\n",
    "        )\n",
    "        # 利用自定义提示模板创建 SQL 查询链\n",
    "        query_chain = create_sql_query_chain(self.sql_agent_llm, self.db, prompt=custom_prompt)\n",
    "        \n",
    "        # 将输入中的 \"question\" 键转换为 table_chain 所需的 \"input\" 键\n",
    "        table_chain = {\"input\": itemgetter(\"question\")} | table_chain\n",
    "        \n",
    "        # 利用 RunnablePassthrough.assign 将提取到的 table_names 注入上下文，然后通过管道传递给 SQL 查询链\n",
    "        self.full_chain = RunnablePassthrough.assign(table_names_to_use=table_chain) | query_chain\n",
    "\n",
    "    def run(self, query: str) -> str:\n",
    "        \"\"\"\n",
    "        接收用户的查询，将问题转化为 SQL 查询语句，然后在 Chinook 数据库中执行。\n",
    "        \n",
    "        参数:\n",
    "            query (str): 用户的自然语言查询，例如 \"What are all the genres of Alanis Morisette songs? Do not repeat!\"\n",
    "        \n",
    "        返回:\n",
    "            str: 执行 SQL 查询后的结果\n",
    "        \"\"\"\n",
    "        # 调用完整的链条生成 SQL 查询语句\n",
    "        sql_query = self.full_chain.invoke({\"question\": query})\n",
    "        # 执行生成的 SQL 查询并返回结果\n",
    "        return self.db.run(sql_query)\n",
    "\n",
    "# 使用 @tool 装饰器将查询功能暴露为一个工具\n",
    "@tool\n",
    "def query_chinook_sqldb(query: str) -> str:\n",
    "    \"\"\"\n",
    "    查询 Chinook SQL 数据库的工具函数，输入为用户的查询语句。\n",
    "    \n",
    "    该函数会实例化一个 ChinookSQLAgent，然后调用其 run 方法来处理查询。\n",
    "    \"\"\"\n",
    "    # 注意：sqldb_directory 应该是数据库文件所在路径，这里假设它是全局变量或配置项\n",
    "    sqldb_directory = here(\"data/Chinook.db\")\n",
    "    agent = ChinookSQLAgent(\n",
    "        sqldb_directory=sqldb_directory,  # 如 TOOLS_CFG.chinook_sqldb_directory\n",
    "        llm=\"llama3-70b-8192\",              # 如 TOOLS_CFG.chinook_sqlagent_llm\n",
    "        llm_temperature=0\n",
    "    )\n",
    "    return agent.run(query)\n",
    "\n",
    "\n",
    "query_chinook_sqldb('What are all the genres of Alanis Morisette songs')\n"
   ]
  },
  {
   "cell_type": "code",
   "execution_count": null,
   "metadata": {},
   "outputs": [],
   "source": []
  }
 ],
 "metadata": {
  "kernelspec": {
   "display_name": "Python 3 (ipykernel)",
   "language": "python",
   "name": "python3"
  },
  "language_info": {
   "codemirror_mode": {
    "name": "ipython",
    "version": 3
   },
   "file_extension": ".py",
   "mimetype": "text/x-python",
   "name": "python",
   "nbconvert_exporter": "python",
   "pygments_lexer": "ipython3",
   "version": "3.11.11"
  }
 },
 "nbformat": 4,
 "nbformat_minor": 4
}
