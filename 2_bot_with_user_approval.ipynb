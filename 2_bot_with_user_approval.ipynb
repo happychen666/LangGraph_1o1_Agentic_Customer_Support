# 添加工具调用ID验证
if event[
    "messages"
] and event[
    "messages"
][
    -1
].tool_calls:
    tool_call_id = event[
    "messages"
][
    -1
].tool_calls[
    0
][
    "id"
]
    result = graph.invoke(
        {
    "messages": [
                ToolMessage(
                    tool_call_id=tool_call_id,
                    content=f"API call denied by user. Reasoning: '{user_input}'..."
                )
    ]
},
        config,
    )
else:
    # 处理没有工具调用的情况
    result = graph.invoke(None, config)
